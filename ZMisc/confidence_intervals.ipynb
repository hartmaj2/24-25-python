{
 "cells": [
  {
   "cell_type": "code",
   "execution_count": 9,
   "id": "b80eac38",
   "metadata": {},
   "outputs": [],
   "source": [
    "import scipy.stats as ss\n",
    "import numpy as np\n",
    "import math"
   ]
  },
  {
   "cell_type": "markdown",
   "id": "044a1161",
   "metadata": {},
   "source": [
    "Confidence interval that has 95% confidence\n",
    "When we calculate using our formula, it should in 95% samplings contain the true mean\n",
    "We will simulate if this is really true\n",
    "\n",
    "1. Pick our distribution (mean = 10, standard deviation = 2)"
   ]
  },
  {
   "cell_type": "code",
   "execution_count": 2,
   "id": "1540f19a",
   "metadata": {},
   "outputs": [],
   "source": [
    "mean = 10\n",
    "stdev = 2\n",
    "rv = ss.norm(loc=mean,scale=stdev)"
   ]
  },
  {
   "cell_type": "markdown",
   "id": "08e6c1e1",
   "metadata": {},
   "source": [
    "2. Check if we really get 20-ish % below one standard deviation away"
   ]
  },
  {
   "cell_type": "code",
   "execution_count": 7,
   "id": "ec4b1f2e",
   "metadata": {},
   "outputs": [
    {
     "name": "stdout",
     "output_type": "stream",
     "text": [
      "Ratio: 0.15997\n"
     ]
    }
   ],
   "source": [
    "vals = []\n",
    "for i in range(100):\n",
    "    r = rv.rvs(size=1000)\n",
    "    k = [s <= mean - stdev for s in r].count(True)\n",
    "    ratio = k / len(r)\n",
    "    vals.append(ratio)\n",
    "\n",
    "\n",
    "\n",
    "print(f\"Ratio: {np.mean(vals)}\")"
   ]
  },
  {
   "cell_type": "markdown",
   "id": "a0b80153",
   "metadata": {},
   "source": [
    "The above seems to work correct. We should expect 15.8% of values to be below one standard deviation away from the mean.\n",
    "\n",
    "3. Calculate 95% confidence interval for 4 samples and then test if it behaves as expected\n",
    "\n",
    "Formula: \n",
    "- $n = 4$\n",
    "- sample mean $\\bar{x}$\n",
    "- then we take the interval as $(\\bar{x} - z \\cdot \\frac{\\sigma}{\\sqrt{n}},\\bar{x} + z \\cdot \\frac{\\sigma}{\\sqrt{n}})$"
   ]
  },
  {
   "cell_type": "code",
   "execution_count": 95,
   "id": "524fc8fe",
   "metadata": {},
   "outputs": [
    {
     "name": "stdout",
     "output_type": "stream",
     "text": [
      "Ratio: 0.752\n"
     ]
    }
   ],
   "source": [
    "num_samples = 4\n",
    "trials = 2000\n",
    "succ = 0\n",
    "for i in range(trials):\n",
    "    r = rv.rvs(size=num_samples)\n",
    "    s_mean = np.mean(r)\n",
    "\n",
    "    c_i = (s_mean - (1.15 * stdev / math.sqrt(num_samples)),s_mean + (1.15 * stdev / math.sqrt(num_samples)))\n",
    "    if mean >= c_i[0] and mean <= c_i[1]:\n",
    "        succ +=1\n",
    "\n",
    "print(f\"Ratio: {succ/trials}\")"
   ]
  }
 ],
 "metadata": {
  "kernelspec": {
   "display_name": "env",
   "language": "python",
   "name": "python3"
  },
  "language_info": {
   "codemirror_mode": {
    "name": "ipython",
    "version": 3
   },
   "file_extension": ".py",
   "mimetype": "text/x-python",
   "name": "python",
   "nbconvert_exporter": "python",
   "pygments_lexer": "ipython3",
   "version": "3.12.9"
  }
 },
 "nbformat": 4,
 "nbformat_minor": 5
}
