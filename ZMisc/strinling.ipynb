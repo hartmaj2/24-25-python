{
 "cells": [
  {
   "cell_type": "markdown",
   "id": "e7bb21a8",
   "metadata": {},
   "source": [
    "Below is a recursive formula devised by me for calculating the stirling number of the second kind"
   ]
  },
  {
   "cell_type": "code",
   "execution_count": 26,
   "id": "2feb50e3",
   "metadata": {},
   "outputs": [
    {
     "name": "stdout",
     "output_type": "stream",
     "text": [
      "[1, 2047, 86526, 611501, 1379400, 1323652, 627396, 159027, 22275, 1705, 66, 1]\n"
     ]
    }
   ],
   "source": [
    "import math\n",
    "\n",
    "a = [1,1]\n",
    "\n",
    "n = 12\n",
    "k = n + 1\n",
    "for i in range(len(a),k):\n",
    "    val = i**n\n",
    "    for j in range(1,len(a)):\n",
    "        val -= a[j] * math.comb(i,j) * math.factorial(j)\n",
    "    val //= math.factorial(i)\n",
    "    a.append(val)\n",
    "\n",
    "print(a[1:])"
   ]
  },
  {
   "cell_type": "markdown",
   "id": "51c21145",
   "metadata": {},
   "source": [
    "![stirling_num](stirling_num.png)"
   ]
  },
  {
   "cell_type": "code",
   "execution_count": 13,
   "id": "52dba7d3",
   "metadata": {},
   "outputs": [
    {
     "name": "stdout",
     "output_type": "stream",
     "text": [
      "15.0\n"
     ]
    }
   ],
   "source": [
    "def stirling_wiki(n,k):\n",
    "    s = 0\n",
    "    for i in range(k+1):\n",
    "        s += (-1)**(k-i) * math.comb(k,i) * i**n\n",
    "    s /= math.factorial(k)\n",
    "    return s\n",
    "\n",
    "print(stirling_wiki(5,2))"
   ]
  },
  {
   "cell_type": "markdown",
   "id": "513579a2",
   "metadata": {},
   "source": [
    "![stirling_correct](stirling_correct.png)"
   ]
  },
  {
   "cell_type": "code",
   "execution_count": 21,
   "id": "2608a394",
   "metadata": {},
   "outputs": [
    {
     "name": "stdout",
     "output_type": "stream",
     "text": [
      "10.0\n"
     ]
    }
   ],
   "source": [
    "def stirling_wolf(n,k):\n",
    "    s = 0\n",
    "    for i in range(k+1):\n",
    "        s += (-1)**(i) * math.comb(k,i) * (k-i)**n\n",
    "    s /= math.factorial(k)\n",
    "    return s\n",
    "\n",
    "print(stirling_wolf(5,4))"
   ]
  },
  {
   "cell_type": "code",
   "execution_count": 17,
   "id": "59126900",
   "metadata": {},
   "outputs": [
    {
     "data": {
      "text/plain": [
       "0"
      ]
     },
     "execution_count": 17,
     "metadata": {},
     "output_type": "execute_result"
    }
   ],
   "source": [
    "(-1)**2 * math.comb(2,2) * (2-2)**5"
   ]
  },
  {
   "cell_type": "code",
   "execution_count": 18,
   "id": "f71cb4a6",
   "metadata": {},
   "outputs": [
    {
     "data": {
      "text/plain": [
       "0"
      ]
     },
     "execution_count": 18,
     "metadata": {},
     "output_type": "execute_result"
    }
   ],
   "source": [
    "(2-2)**5"
   ]
  }
 ],
 "metadata": {
  "kernelspec": {
   "display_name": "env",
   "language": "python",
   "name": "python3"
  },
  "language_info": {
   "codemirror_mode": {
    "name": "ipython",
    "version": 3
   },
   "file_extension": ".py",
   "mimetype": "text/x-python",
   "name": "python",
   "nbconvert_exporter": "python",
   "pygments_lexer": "ipython3",
   "version": "3.12.10"
  }
 },
 "nbformat": 4,
 "nbformat_minor": 5
}
